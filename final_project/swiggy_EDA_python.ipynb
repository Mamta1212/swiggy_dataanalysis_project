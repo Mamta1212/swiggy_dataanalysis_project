{
 "cells": [
  {
   "cell_type": "markdown",
   "id": "f1e69962",
   "metadata": {},
   "source": [
    "EXPLORATORY DATA ANALYSIS"
   ]
  },
  {
   "cell_type": "markdown",
   "id": "2e6abbde",
   "metadata": {},
   "source": [
    "Project Title: Analyzing Swiggy : Bangalore delivery outlet data"
   ]
  },
  {
   "cell_type": "code",
   "execution_count": 3,
   "id": "834dab2a",
   "metadata": {},
   "outputs": [],
   "source": [
    "#importing libraries\n",
    "import numpy as np\n",
    "import pandas as pd\n",
    "import matplotlib.pyplot as plt\n",
    "import seaborn as sns\n",
    "%matplotlib inline \n",
    "sns.set()"
   ]
  },
  {
   "cell_type": "code",
   "execution_count": 4,
   "id": "9539142f",
   "metadata": {},
   "outputs": [],
   "source": [
    "#importing dataset\n",
    "swiggy_df=pd.read_excel(\"D:\\mamta\\Excel_fles\\swiggy_clean_data_new.xlsx\")"
   ]
  },
  {
   "cell_type": "code",
   "execution_count": 35,
   "id": "d52511cf",
   "metadata": {},
   "outputs": [
    {
     "data": {
      "text/html": [
       "<div>\n",
       "<style scoped>\n",
       "    .dataframe tbody tr th:only-of-type {\n",
       "        vertical-align: middle;\n",
       "    }\n",
       "\n",
       "    .dataframe tbody tr th {\n",
       "        vertical-align: top;\n",
       "    }\n",
       "\n",
       "    .dataframe thead th {\n",
       "        text-align: right;\n",
       "    }\n",
       "</style>\n",
       "<table border=\"1\" class=\"dataframe\">\n",
       "  <thead>\n",
       "    <tr style=\"text-align: right;\">\n",
       "      <th></th>\n",
       "      <th>Shop_Name</th>\n",
       "      <th>Cuisine</th>\n",
       "      <th>Location</th>\n",
       "      <th>Rating</th>\n",
       "      <th>Cost_for_Two</th>\n",
       "      <th>Rating_sort</th>\n",
       "      <th>Cost_sort</th>\n",
       "    </tr>\n",
       "  </thead>\n",
       "  <tbody>\n",
       "    <tr>\n",
       "      <th>0</th>\n",
       "      <td>FRESHMENU</td>\n",
       "      <td>AMERICAN</td>\n",
       "      <td>KORAMANGALA</td>\n",
       "      <td>3.9</td>\n",
       "      <td>350</td>\n",
       "      <td>0</td>\n",
       "      <td>2</td>\n",
       "    </tr>\n",
       "    <tr>\n",
       "      <th>1</th>\n",
       "      <td>PIPABU</td>\n",
       "      <td>AMERICAN</td>\n",
       "      <td>KORAMANGALA</td>\n",
       "      <td>4.1</td>\n",
       "      <td>257</td>\n",
       "      <td>1</td>\n",
       "      <td>2</td>\n",
       "    </tr>\n",
       "    <tr>\n",
       "      <th>2</th>\n",
       "      <td>EASY BITES</td>\n",
       "      <td>AMERICAN</td>\n",
       "      <td>KORAMANGALA</td>\n",
       "      <td>3.9</td>\n",
       "      <td>200</td>\n",
       "      <td>0</td>\n",
       "      <td>1</td>\n",
       "    </tr>\n",
       "    <tr>\n",
       "      <th>3</th>\n",
       "      <td>EASY BITES</td>\n",
       "      <td>AMERICAN</td>\n",
       "      <td>HSR</td>\n",
       "      <td>3.8</td>\n",
       "      <td>200</td>\n",
       "      <td>0</td>\n",
       "      <td>1</td>\n",
       "    </tr>\n",
       "    <tr>\n",
       "      <th>4</th>\n",
       "      <td>LEON GRILL</td>\n",
       "      <td>AMERICAN</td>\n",
       "      <td>HSR</td>\n",
       "      <td>4.3</td>\n",
       "      <td>300</td>\n",
       "      <td>1</td>\n",
       "      <td>2</td>\n",
       "    </tr>\n",
       "  </tbody>\n",
       "</table>\n",
       "</div>"
      ],
      "text/plain": [
       "    Shop_Name   Cuisine     Location  Rating  Cost_for_Two  Rating_sort  \\\n",
       "0   FRESHMENU  AMERICAN  KORAMANGALA     3.9           350            0   \n",
       "1      PIPABU  AMERICAN  KORAMANGALA     4.1           257            1   \n",
       "2  EASY BITES  AMERICAN  KORAMANGALA     3.9           200            0   \n",
       "3  EASY BITES  AMERICAN          HSR     3.8           200            0   \n",
       "4  LEON GRILL  AMERICAN          HSR     4.3           300            1   \n",
       "\n",
       "   Cost_sort  \n",
       "0          2  \n",
       "1          2  \n",
       "2          1  \n",
       "3          1  \n",
       "4          2  "
      ]
     },
     "execution_count": 35,
     "metadata": {},
     "output_type": "execute_result"
    }
   ],
   "source": [
    "swiggy_df.head()"
   ]
  },
  {
   "cell_type": "markdown",
   "id": "4a1dc006",
   "metadata": {},
   "source": [
    "THE DATA IS ABOUT\n",
    "Column1: Names of shops from Banglore city which are swiggy outlets\n",
    "Column2: Type of Cuisines eg. North Indian or Chinese etc\n",
    "Column3: Location of that shop in city.\n",
    "Column4: Ratings of that shop \n",
    "column5: Approximate Cost for two persons to serve there by swiggy."
   ]
  },
  {
   "cell_type": "code",
   "execution_count": 6,
   "id": "0084cfaa",
   "metadata": {},
   "outputs": [
    {
     "data": {
      "text/plain": [
       "(331, 5)"
      ]
     },
     "execution_count": 6,
     "metadata": {},
     "output_type": "execute_result"
    }
   ],
   "source": [
    "swiggy_df.shape"
   ]
  },
  {
   "cell_type": "raw",
   "id": "60a7c9f9",
   "metadata": {},
   "source": [
    "Total rows = 331\n",
    "Total column=  5"
   ]
  },
  {
   "cell_type": "code",
   "execution_count": 7,
   "id": "d04cc11a",
   "metadata": {},
   "outputs": [
    {
     "data": {
      "text/plain": [
       "Index(['Shop_Name', 'Cuisine', 'Location', 'Rating', 'Cost_for_Two'], dtype='object')"
      ]
     },
     "execution_count": 7,
     "metadata": {},
     "output_type": "execute_result"
    }
   ],
   "source": [
    "swiggy_df.columns"
   ]
  },
  {
   "cell_type": "code",
   "execution_count": 8,
   "id": "45f436aa",
   "metadata": {},
   "outputs": [
    {
     "data": {
      "text/html": [
       "<div>\n",
       "<style scoped>\n",
       "    .dataframe tbody tr th:only-of-type {\n",
       "        vertical-align: middle;\n",
       "    }\n",
       "\n",
       "    .dataframe tbody tr th {\n",
       "        vertical-align: top;\n",
       "    }\n",
       "\n",
       "    .dataframe thead th {\n",
       "        text-align: right;\n",
       "    }\n",
       "</style>\n",
       "<table border=\"1\" class=\"dataframe\">\n",
       "  <thead>\n",
       "    <tr style=\"text-align: right;\">\n",
       "      <th></th>\n",
       "      <th>Rating</th>\n",
       "      <th>Cost_for_Two</th>\n",
       "    </tr>\n",
       "  </thead>\n",
       "  <tbody>\n",
       "    <tr>\n",
       "      <th>count</th>\n",
       "      <td>330.000000</td>\n",
       "      <td>331.000000</td>\n",
       "    </tr>\n",
       "    <tr>\n",
       "      <th>mean</th>\n",
       "      <td>4.080606</td>\n",
       "      <td>330.305136</td>\n",
       "    </tr>\n",
       "    <tr>\n",
       "      <th>std</th>\n",
       "      <td>0.200727</td>\n",
       "      <td>129.825503</td>\n",
       "    </tr>\n",
       "    <tr>\n",
       "      <th>min</th>\n",
       "      <td>3.600000</td>\n",
       "      <td>100.000000</td>\n",
       "    </tr>\n",
       "    <tr>\n",
       "      <th>25%</th>\n",
       "      <td>4.000000</td>\n",
       "      <td>250.000000</td>\n",
       "    </tr>\n",
       "    <tr>\n",
       "      <th>50%</th>\n",
       "      <td>4.100000</td>\n",
       "      <td>350.000000</td>\n",
       "    </tr>\n",
       "    <tr>\n",
       "      <th>75%</th>\n",
       "      <td>4.200000</td>\n",
       "      <td>400.000000</td>\n",
       "    </tr>\n",
       "    <tr>\n",
       "      <th>max</th>\n",
       "      <td>4.800000</td>\n",
       "      <td>800.000000</td>\n",
       "    </tr>\n",
       "  </tbody>\n",
       "</table>\n",
       "</div>"
      ],
      "text/plain": [
       "           Rating  Cost_for_Two\n",
       "count  330.000000    331.000000\n",
       "mean     4.080606    330.305136\n",
       "std      0.200727    129.825503\n",
       "min      3.600000    100.000000\n",
       "25%      4.000000    250.000000\n",
       "50%      4.100000    350.000000\n",
       "75%      4.200000    400.000000\n",
       "max      4.800000    800.000000"
      ]
     },
     "execution_count": 8,
     "metadata": {},
     "output_type": "execute_result"
    }
   ],
   "source": [
    "swiggy_df.describe()"
   ]
  },
  {
   "cell_type": "markdown",
   "id": "bf54529c",
   "metadata": {},
   "source": [
    "The rows are about cost of two personsin perticular swiggy outlet:\n",
    "minimum cost=100, maximum cost=800 and avg.cost=330"
   ]
  },
  {
   "cell_type": "code",
   "execution_count": 9,
   "id": "c60c6bf0",
   "metadata": {},
   "outputs": [
    {
     "name": "stdout",
     "output_type": "stream",
     "text": [
      "<class 'pandas.core.frame.DataFrame'>\n",
      "RangeIndex: 331 entries, 0 to 330\n",
      "Data columns (total 5 columns):\n",
      " #   Column        Non-Null Count  Dtype  \n",
      "---  ------        --------------  -----  \n",
      " 0   Shop_Name     331 non-null    object \n",
      " 1   Cuisine       331 non-null    object \n",
      " 2   Location      331 non-null    object \n",
      " 3   Rating        330 non-null    float64\n",
      " 4   Cost_for_Two  331 non-null    int64  \n",
      "dtypes: float64(1), int64(1), object(3)\n",
      "memory usage: 13.1+ KB\n"
     ]
    }
   ],
   "source": [
    "swiggy_df.info()             #number of categorical and numeric columns "
   ]
  },
  {
   "cell_type": "markdown",
   "id": "0728894e",
   "metadata": {},
   "source": [
    "swiggy data information shows:\n",
    "totoal 5 columns >> 4 are categorical and 1 coulumn is numeric"
   ]
  },
  {
   "cell_type": "code",
   "execution_count": 10,
   "id": "16f95ec7",
   "metadata": {},
   "outputs": [
    {
     "data": {
      "text/plain": [
       "Shop_Name       115\n",
       "Cuisine          48\n",
       "Location          4\n",
       "Rating           12\n",
       "Cost_for_Two     30\n",
       "dtype: int64"
      ]
     },
     "execution_count": 10,
     "metadata": {},
     "output_type": "execute_result"
    }
   ],
   "source": [
    "swiggy_df.nunique()    #Unique value count per column in whole dataframe."
   ]
  },
  {
   "cell_type": "code",
   "execution_count": 40,
   "id": "cf737091",
   "metadata": {},
   "outputs": [],
   "source": [
    "cuisine_unique=swiggy_df['Cuisine'].unique()                 #These many different Cuisine types are available in data "
   ]
  },
  {
   "cell_type": "code",
   "execution_count": 41,
   "id": "93acd76c",
   "metadata": {},
   "outputs": [
    {
     "data": {
      "text/plain": [
       "array(['AMERICAN', 'ANDHRA', 'ARABIAN', 'ASIAN', 'BAKERY', 'BEVERAGES',\n",
       "       'BIRYANI', 'CAFE', 'CHAAT', 'CHETTINAD', 'CHINESE', 'COMBO',\n",
       "       'CONTINENTAL', 'DESSERTS', 'FAST FOOD', 'GRILL', 'HEALTHY FOOD',\n",
       "       'HOME FOOD', 'HYDERABADI', 'INDIAN', 'ITALIAN', 'JAIN', 'JUICES',\n",
       "       'KEBABS', 'KERALA', 'LEBANESE', 'MEDITERRANEAN', 'MEXICAN',\n",
       "       'MIDDLE EASTERN', 'MUGHLAI', 'NORTH INDIAN', 'ORIENTAL',\n",
       "       'PAN-ASIAN', 'PASTAS', 'PIZZAS', 'PORTUGUESE', 'PUNJABI',\n",
       "       'RAJASTHANI', 'SALADS', 'SEAFOOD', 'SNACKS', 'SOUTH INDIAN',\n",
       "       'SWEETS', 'TANDOOR', 'THAI', 'THALIS', 'ICE CREAM', 'TURKISH'],\n",
       "      dtype=object)"
      ]
     },
     "execution_count": 41,
     "metadata": {},
     "output_type": "execute_result"
    }
   ],
   "source": [
    "cuisine_unique"
   ]
  },
  {
   "cell_type": "code",
   "execution_count": 12,
   "id": "6361e9aa",
   "metadata": {},
   "outputs": [
    {
     "data": {
      "text/plain": [
       "array(['KORAMANGALA', 'HSR', 'BTM', 'JAYANAGAR'], dtype=object)"
      ]
     },
     "execution_count": 12,
     "metadata": {},
     "output_type": "execute_result"
    }
   ],
   "source": [
    "swiggy_df['Location'].unique()     "
   ]
  },
  {
   "cell_type": "code",
   "execution_count": 13,
   "id": "4d7734ea",
   "metadata": {},
   "outputs": [],
   "source": [
    "# group by Cuisine type  and sort descending\n",
    "\n",
    "groupby_Cuisine=swiggy_df.groupby('Cuisine')['Shop_Name'].size().sort_values(ascending=False) "
   ]
  },
  {
   "cell_type": "code",
   "execution_count": 14,
   "id": "dded5e08",
   "metadata": {},
   "outputs": [
    {
     "name": "stdout",
     "output_type": "stream",
     "text": [
      "| Cuisine        |   Shop_Name |\n",
      "|:---------------|------------:|\n",
      "| NORTH INDIAN   |          47 |\n",
      "| CHINESE        |          42 |\n",
      "| SOUTH INDIAN   |          28 |\n",
      "| BIRYANI        |          26 |\n",
      "| DESSERTS       |          22 |\n",
      "| FAST FOOD      |          20 |\n",
      "| ANDHRA         |          15 |\n",
      "| AMERICAN       |          11 |\n",
      "| SEAFOOD        |           9 |\n",
      "| BEVERAGES      |           9 |\n",
      "| MUGHLAI        |           7 |\n",
      "| INDIAN         |           6 |\n",
      "| KERALA         |           6 |\n",
      "| SNACKS         |           5 |\n",
      "| PIZZAS         |           5 |\n",
      "| HYDERABADI     |           5 |\n",
      "| ITALIAN        |           5 |\n",
      "| HEALTHY FOOD   |           4 |\n",
      "| ARABIAN        |           4 |\n",
      "| MEXICAN        |           3 |\n",
      "| ICE CREAM      |           3 |\n",
      "| THAI           |           3 |\n",
      "| ASIAN          |           3 |\n",
      "| BAKERY         |           3 |\n",
      "| CONTINENTAL    |           3 |\n",
      "| PUNJABI        |           2 |\n",
      "| PORTUGUESE     |           2 |\n",
      "| SALADS         |           2 |\n",
      "| PAN-ASIAN      |           2 |\n",
      "| SWEETS         |           2 |\n",
      "| KEBABS         |           2 |\n",
      "| HOME FOOD      |           2 |\n",
      "| JAIN           |           2 |\n",
      "| CAFE           |           2 |\n",
      "| CHAAT          |           2 |\n",
      "| CHETTINAD      |           2 |\n",
      "| GRILL          |           2 |\n",
      "| TURKISH        |           2 |\n",
      "| JUICES         |           2 |\n",
      "| RAJASTHANI     |           1 |\n",
      "| ORIENTAL       |           1 |\n",
      "| COMBO          |           1 |\n",
      "| LEBANESE       |           1 |\n",
      "| PASTAS         |           1 |\n",
      "| TANDOOR        |           1 |\n",
      "| MEDITERRANEAN  |           1 |\n",
      "| THALIS         |           1 |\n",
      "| MIDDLE EASTERN |           1 |\n"
     ]
    }
   ],
   "source": [
    "print(groupby_Cuisine.to_markdown())     # Disply in markdown"
   ]
  },
  {
   "cell_type": "markdown",
   "id": "4d7f6f29",
   "metadata": {},
   "source": [
    "Above list shows that the maximum number of outlets are of \"NORTH INDIAN\" cuisine in this data  with 47 count\n",
    "later \"CHINESE\"=42 and \"OUTH INDIAN\"=28 are leading after it."
   ]
  },
  {
   "cell_type": "code",
   "execution_count": 15,
   "id": "7d6c7549",
   "metadata": {},
   "outputs": [],
   "source": [
    "  #grouping shops by laction and sorting descending\n",
    "groupby_shop_Location = swiggy_df.groupby(\"Location\")[\"Shop_Name\"].size().sort_values(ascending=False)   "
   ]
  },
  {
   "cell_type": "code",
   "execution_count": 16,
   "id": "aff345fe",
   "metadata": {},
   "outputs": [
    {
     "data": {
      "text/plain": [
       "Location\n",
       "KORAMANGALA    167\n",
       "BTM            116\n",
       "HSR             46\n",
       "JAYANAGAR        2\n",
       "Name: Shop_Name, dtype: int64"
      ]
     },
     "execution_count": 16,
     "metadata": {},
     "output_type": "execute_result"
    }
   ],
   "source": [
    "groupby_shop_Location     "
   ]
  },
  {
   "cell_type": "markdown",
   "id": "d2b8d277",
   "metadata": {},
   "source": [
    "Koramangala  has maximum shops or swiggy outlets : 167  & \n",
    "Jayanagar has minimum shops or swiggy outlets  :  2"
   ]
  },
  {
   "cell_type": "code",
   "execution_count": 17,
   "id": "2a1d849a",
   "metadata": {},
   "outputs": [
    {
     "data": {
      "text/plain": [
       "Shop_Name       0\n",
       "Cuisine         0\n",
       "Location        0\n",
       "Rating          1\n",
       "Cost_for_Two    0\n",
       "dtype: int64"
      ]
     },
     "execution_count": 17,
     "metadata": {},
     "output_type": "execute_result"
    }
   ],
   "source": [
    "swiggy_df.isnull().sum()"
   ]
  },
  {
   "cell_type": "code",
   "execution_count": 18,
   "id": "719068ad",
   "metadata": {},
   "outputs": [
    {
     "data": {
      "text/html": [
       "<div>\n",
       "<style scoped>\n",
       "    .dataframe tbody tr th:only-of-type {\n",
       "        vertical-align: middle;\n",
       "    }\n",
       "\n",
       "    .dataframe tbody tr th {\n",
       "        vertical-align: top;\n",
       "    }\n",
       "\n",
       "    .dataframe thead th {\n",
       "        text-align: right;\n",
       "    }\n",
       "</style>\n",
       "<table border=\"1\" class=\"dataframe\">\n",
       "  <thead>\n",
       "    <tr style=\"text-align: right;\">\n",
       "      <th></th>\n",
       "      <th>Shop_Name</th>\n",
       "      <th>Cuisine</th>\n",
       "      <th>Location</th>\n",
       "      <th>Rating</th>\n",
       "      <th>Cost_for_Two</th>\n",
       "    </tr>\n",
       "  </thead>\n",
       "  <tbody>\n",
       "    <tr>\n",
       "      <th>233</th>\n",
       "      <td>MANDYA GOWDRU DONNE BIRYANI</td>\n",
       "      <td>BIRYANI</td>\n",
       "      <td>HSR</td>\n",
       "      <td>NaN</td>\n",
       "      <td>350</td>\n",
       "    </tr>\n",
       "  </tbody>\n",
       "</table>\n",
       "</div>"
      ],
      "text/plain": [
       "                       Shop_Name  Cuisine Location  Rating  Cost_for_Two\n",
       "233  MANDYA GOWDRU DONNE BIRYANI  BIRYANI      HSR     NaN           350"
      ]
     },
     "execution_count": 18,
     "metadata": {},
     "output_type": "execute_result"
    }
   ],
   "source": [
    "swiggy_df[swiggy_df['Rating'].isna()]      #checking NaN value"
   ]
  },
  {
   "cell_type": "markdown",
   "id": "d54885cb",
   "metadata": {},
   "source": [
    "Replacing NaN value in Rating column with it mean value."
   ]
  },
  {
   "cell_type": "code",
   "execution_count": 19,
   "id": "4db68ea3",
   "metadata": {},
   "outputs": [],
   "source": [
    "swiggy_df['Rating'] = swiggy_df['Rating'].fillna(swiggy_df['Rating'].mean())"
   ]
  },
  {
   "cell_type": "code",
   "execution_count": 20,
   "id": "185d9e16",
   "metadata": {},
   "outputs": [
    {
     "data": {
      "text/plain": [
       "<AxesSubplot:>"
      ]
     },
     "execution_count": 20,
     "metadata": {},
     "output_type": "execute_result"
    },
    {
     "data": {
      "image/png": "[encoded data removed]",
      "text/plain": [
       "<Figure size 640x480 with 1 Axes>"
      ]
     },
     "metadata": {},
     "output_type": "display_data"
    }
   ],
   "source": [
    "sns.heatmap(swiggy_df.isnull(),yticklabels=False,cbar=False,cmap='viridis')"
   ]
  },
  {
   "cell_type": "code",
   "execution_count": 21,
   "id": "7c773935",
   "metadata": {},
   "outputs": [
    {
     "data": {
      "text/plain": [
       "Shop_Name       0\n",
       "Cuisine         0\n",
       "Location        0\n",
       "Rating          0\n",
       "Cost_for_Two    0\n",
       "dtype: int64"
      ]
     },
     "execution_count": 21,
     "metadata": {},
     "output_type": "execute_result"
    }
   ],
   "source": [
    "swiggy_df.isnull().sum()"
   ]
  },
  {
   "cell_type": "markdown",
   "id": "0371b1fd",
   "metadata": {},
   "source": [
    "Now there are no NAN values in the dataset."
   ]
  },
  {
   "cell_type": "markdown",
   "id": "35918b4e",
   "metadata": {},
   "source": [
    "Now lets sort our data by ratings, \n",
    "say below average=0 and above average=1"
   ]
  },
  {
   "cell_type": "code",
   "execution_count": 22,
   "id": "ada90db5",
   "metadata": {},
   "outputs": [],
   "source": [
    "swiggy_df['Rating_sort']=0\n",
    "swiggy_df.loc[swiggy_df['Rating']<=4,'Rating_sort']=0\n",
    "swiggy_df.loc[swiggy_df['Rating']>4,'Rating_sort']=1"
   ]
  },
  {
   "cell_type": "code",
   "execution_count": 23,
   "id": "64ddf017",
   "metadata": {},
   "outputs": [
    {
     "data": {
      "text/html": [
       "<div>\n",
       "<style scoped>\n",
       "    .dataframe tbody tr th:only-of-type {\n",
       "        vertical-align: middle;\n",
       "    }\n",
       "\n",
       "    .dataframe tbody tr th {\n",
       "        vertical-align: top;\n",
       "    }\n",
       "\n",
       "    .dataframe thead th {\n",
       "        text-align: right;\n",
       "    }\n",
       "</style>\n",
       "<table border=\"1\" class=\"dataframe\">\n",
       "  <thead>\n",
       "    <tr style=\"text-align: right;\">\n",
       "      <th></th>\n",
       "      <th>Shop_Name</th>\n",
       "      <th>Cuisine</th>\n",
       "      <th>Location</th>\n",
       "      <th>Rating</th>\n",
       "      <th>Cost_for_Two</th>\n",
       "      <th>Rating_sort</th>\n",
       "    </tr>\n",
       "  </thead>\n",
       "  <tbody>\n",
       "    <tr>\n",
       "      <th>0</th>\n",
       "      <td>FRESHMENU</td>\n",
       "      <td>AMERICAN</td>\n",
       "      <td>KORAMANGALA</td>\n",
       "      <td>3.9</td>\n",
       "      <td>350</td>\n",
       "      <td>0</td>\n",
       "    </tr>\n",
       "    <tr>\n",
       "      <th>1</th>\n",
       "      <td>PIPABU</td>\n",
       "      <td>AMERICAN</td>\n",
       "      <td>KORAMANGALA</td>\n",
       "      <td>4.1</td>\n",
       "      <td>257</td>\n",
       "      <td>1</td>\n",
       "    </tr>\n",
       "    <tr>\n",
       "      <th>2</th>\n",
       "      <td>EASY BITES</td>\n",
       "      <td>AMERICAN</td>\n",
       "      <td>KORAMANGALA</td>\n",
       "      <td>3.9</td>\n",
       "      <td>200</td>\n",
       "      <td>0</td>\n",
       "    </tr>\n",
       "    <tr>\n",
       "      <th>3</th>\n",
       "      <td>EASY BITES</td>\n",
       "      <td>AMERICAN</td>\n",
       "      <td>HSR</td>\n",
       "      <td>3.8</td>\n",
       "      <td>200</td>\n",
       "      <td>0</td>\n",
       "    </tr>\n",
       "    <tr>\n",
       "      <th>4</th>\n",
       "      <td>LEON GRILL</td>\n",
       "      <td>AMERICAN</td>\n",
       "      <td>HSR</td>\n",
       "      <td>4.3</td>\n",
       "      <td>300</td>\n",
       "      <td>1</td>\n",
       "    </tr>\n",
       "  </tbody>\n",
       "</table>\n",
       "</div>"
      ],
      "text/plain": [
       "    Shop_Name   Cuisine     Location  Rating  Cost_for_Two  Rating_sort\n",
       "0   FRESHMENU  AMERICAN  KORAMANGALA     3.9           350            0\n",
       "1      PIPABU  AMERICAN  KORAMANGALA     4.1           257            1\n",
       "2  EASY BITES  AMERICAN  KORAMANGALA     3.9           200            0\n",
       "3  EASY BITES  AMERICAN          HSR     3.8           200            0\n",
       "4  LEON GRILL  AMERICAN          HSR     4.3           300            1"
      ]
     },
     "execution_count": 23,
     "metadata": {},
     "output_type": "execute_result"
    }
   ],
   "source": [
    "swiggy_df.head()"
   ]
  },
  {
   "cell_type": "code",
   "execution_count": 24,
   "id": "95de5e29",
   "metadata": {},
   "outputs": [
    {
     "data": {
      "text/plain": [
       "Rating_sort\n",
       "1    197\n",
       "0    134\n",
       "dtype: int64"
      ]
     },
     "execution_count": 24,
     "metadata": {},
     "output_type": "execute_result"
    }
   ],
   "source": [
    "swiggy_df.groupby(\"Rating_sort\").size().sort_values(ascending=False)   "
   ]
  },
  {
   "cell_type": "markdown",
   "id": "0e976c9a",
   "metadata": {},
   "source": [
    "As we divide Ratings in two halves, below and above average, lets divide the \"ost for two\" in different categories like, affordable=1, reasonable=2, Premium=3"
   ]
  },
  {
   "cell_type": "code",
   "execution_count": 25,
   "id": "739fca25",
   "metadata": {},
   "outputs": [],
   "source": [
    "swiggy_df['Cost_sort']=0\n",
    "swiggy_df.loc[swiggy_df['Cost_for_Two']<=200,'Cost_sort']=1\n",
    "swiggy_df.loc[(swiggy_df['Cost_for_Two']>200)&(swiggy_df['Cost_for_Two']<=500),'Cost_sort']=2\n",
    "swiggy_df.loc[swiggy_df['Cost_for_Two']>500,'Cost_sort']=3"
   ]
  },
  {
   "cell_type": "code",
   "execution_count": 26,
   "id": "6b0b8911",
   "metadata": {},
   "outputs": [
    {
     "data": {
      "text/html": [
       "<div>\n",
       "<style scoped>\n",
       "    .dataframe tbody tr th:only-of-type {\n",
       "        vertical-align: middle;\n",
       "    }\n",
       "\n",
       "    .dataframe tbody tr th {\n",
       "        vertical-align: top;\n",
       "    }\n",
       "\n",
       "    .dataframe thead th {\n",
       "        text-align: right;\n",
       "    }\n",
       "</style>\n",
       "<table border=\"1\" class=\"dataframe\">\n",
       "  <thead>\n",
       "    <tr style=\"text-align: right;\">\n",
       "      <th></th>\n",
       "      <th>Shop_Name</th>\n",
       "      <th>Cuisine</th>\n",
       "      <th>Location</th>\n",
       "      <th>Rating</th>\n",
       "      <th>Cost_for_Two</th>\n",
       "      <th>Rating_sort</th>\n",
       "      <th>Cost_sort</th>\n",
       "    </tr>\n",
       "  </thead>\n",
       "  <tbody>\n",
       "    <tr>\n",
       "      <th>0</th>\n",
       "      <td>FRESHMENU</td>\n",
       "      <td>AMERICAN</td>\n",
       "      <td>KORAMANGALA</td>\n",
       "      <td>3.9</td>\n",
       "      <td>350</td>\n",
       "      <td>0</td>\n",
       "      <td>2</td>\n",
       "    </tr>\n",
       "    <tr>\n",
       "      <th>1</th>\n",
       "      <td>PIPABU</td>\n",
       "      <td>AMERICAN</td>\n",
       "      <td>KORAMANGALA</td>\n",
       "      <td>4.1</td>\n",
       "      <td>257</td>\n",
       "      <td>1</td>\n",
       "      <td>2</td>\n",
       "    </tr>\n",
       "    <tr>\n",
       "      <th>2</th>\n",
       "      <td>EASY BITES</td>\n",
       "      <td>AMERICAN</td>\n",
       "      <td>KORAMANGALA</td>\n",
       "      <td>3.9</td>\n",
       "      <td>200</td>\n",
       "      <td>0</td>\n",
       "      <td>1</td>\n",
       "    </tr>\n",
       "    <tr>\n",
       "      <th>3</th>\n",
       "      <td>EASY BITES</td>\n",
       "      <td>AMERICAN</td>\n",
       "      <td>HSR</td>\n",
       "      <td>3.8</td>\n",
       "      <td>200</td>\n",
       "      <td>0</td>\n",
       "      <td>1</td>\n",
       "    </tr>\n",
       "    <tr>\n",
       "      <th>4</th>\n",
       "      <td>LEON GRILL</td>\n",
       "      <td>AMERICAN</td>\n",
       "      <td>HSR</td>\n",
       "      <td>4.3</td>\n",
       "      <td>300</td>\n",
       "      <td>1</td>\n",
       "      <td>2</td>\n",
       "    </tr>\n",
       "  </tbody>\n",
       "</table>\n",
       "</div>"
      ],
      "text/plain": [
       "    Shop_Name   Cuisine     Location  Rating  Cost_for_Two  Rating_sort  \\\n",
       "0   FRESHMENU  AMERICAN  KORAMANGALA     3.9           350            0   \n",
       "1      PIPABU  AMERICAN  KORAMANGALA     4.1           257            1   \n",
       "2  EASY BITES  AMERICAN  KORAMANGALA     3.9           200            0   \n",
       "3  EASY BITES  AMERICAN          HSR     3.8           200            0   \n",
       "4  LEON GRILL  AMERICAN          HSR     4.3           300            1   \n",
       "\n",
       "   Cost_sort  \n",
       "0          2  \n",
       "1          2  \n",
       "2          1  \n",
       "3          1  \n",
       "4          2  "
      ]
     },
     "execution_count": 26,
     "metadata": {},
     "output_type": "execute_result"
    }
   ],
   "source": [
    "swiggy_df.head()"
   ]
  },
  {
   "cell_type": "markdown",
   "id": "9f10460e",
   "metadata": {},
   "source": [
    "# data visualization\n",
    "Lets now visualize the data and check the relationship between different attributes which is our main aim for this task."
   ]
  },
  {
   "cell_type": "code",
   "execution_count": 27,
   "id": "7b5b4038",
   "metadata": {},
   "outputs": [
    {
     "data": {
      "image/png": "[encoded data removed]",
      "text/plain": [
       "<Figure size 640x480 with 2 Axes>"
      ]
     },
     "metadata": {},
     "output_type": "display_data"
    }
   ],
   "source": [
    "#Using heatmap from seaborn package we can check correlation between different features.\n",
    "dataplot = sns.heatmap(swiggy_df.corr(), cmap=\"YlGnBu\", annot=True)\n",
    "\n",
    "# Display the Pharma Sector Heatmap\n",
    "plt.show()"
   ]
  },
  {
   "cell_type": "markdown",
   "id": "b3213b76",
   "metadata": {},
   "source": [
    "From above heat map we can easily find the correlation between different attributes.\n",
    "As 'cost_sort' and 'cost of two' are directly related it is showing positiv corelation between them obviouslu.\n"
   ]
  },
  {
   "cell_type": "code",
   "execution_count": 28,
   "id": "993e1aef",
   "metadata": {},
   "outputs": [
    {
     "data": {
      "text/plain": [
       "<AxesSubplot:xlabel='Rating', ylabel='Count'>"
      ]
     },
     "execution_count": 28,
     "metadata": {},
     "output_type": "execute_result"
    },
    {
     "data": {
      "image/png": "[encoded data removed]",
      "text/plain": [
       "<Figure size 640x480 with 1 Axes>"
      ]
     },
     "metadata": {},
     "output_type": "display_data"
    }
   ],
   "source": [
    "sns.histplot(data = swiggy_df['Rating'], kde = True)"
   ]
  },
  {
   "cell_type": "markdown",
   "id": "c7e95c99",
   "metadata": {},
   "source": [
    "From above visualisation we can say that, Mean Rating is 4.1 approximately and count is 100 is maximum for it."
   ]
  },
  {
   "cell_type": "code",
   "execution_count": 29,
   "id": "731583ab",
   "metadata": {},
   "outputs": [
    {
     "data": {
      "text/plain": [
       "<AxesSubplot:xlabel='Cost_for_Two', ylabel='Count'>"
      ]
     },
     "execution_count": 29,
     "metadata": {},
     "output_type": "execute_result"
    },
    {
     "data": {
      "image/png": "[encoded data removed]",
      "text/plain": [
       "<Figure size 640x480 with 1 Axes>"
      ]
     },
     "metadata": {},
     "output_type": "display_data"
    }
   ],
   "source": [
    "sns.histplot(data = swiggy_df['Cost_for_Two'], kde = True)"
   ]
  },
  {
   "cell_type": "markdown",
   "id": "3c509db8",
   "metadata": {},
   "source": [
    "Mean cost of two persons is about 350 rs."
   ]
  },
  {
   "cell_type": "code",
   "execution_count": 30,
   "id": "85730270",
   "metadata": {},
   "outputs": [
    {
     "data": {
      "text/plain": [
       "<AxesSubplot:xlabel='Location', ylabel='count'>"
      ]
     },
     "execution_count": 30,
     "metadata": {},
     "output_type": "execute_result"
    },
    {
     "data": {
      "image/png": "[encoded data removed]",
      "text/plain": [
       "<Figure size 640x480 with 1 Axes>"
      ]
     },
     "metadata": {},
     "output_type": "display_data"
    }
   ],
   "source": [
    "##Viewing survived data using countplot\n",
    "sns.set_style('whitegrid')\n",
    "sns.countplot(x='Location',data=swiggy_df)"
   ]
  },
  {
   "cell_type": "code",
   "execution_count": 31,
   "id": "04634483",
   "metadata": {},
   "outputs": [
    {
     "data": {
      "text/plain": [
       "<AxesSubplot:xlabel='Cost_sort', ylabel='Rating'>"
      ]
     },
     "execution_count": 31,
     "metadata": {},
     "output_type": "execute_result"
    },
    {
     "data": {
      "image/png": "[encoded data removed]",
      "text/plain": [
       "<Figure size 640x480 with 1 Axes>"
      ]
     },
     "metadata": {},
     "output_type": "display_data"
    }
   ],
   "source": [
    "sns.boxplot(x='Cost_sort',y='Rating',data=swiggy_df,palette='winter')"
   ]
  },
  {
   "cell_type": "markdown",
   "id": "4b9b5ef9",
   "metadata": {},
   "source": [
    "In above box plot shows\n",
    "For all cost sort type wether it is affordable, reasonable or premium maximul rating lies between 3.9 to 4.4\n",
    "It show cost and rating are not that much correlated."
   ]
  },
  {
   "cell_type": "code",
   "execution_count": 32,
   "id": "f3befee5",
   "metadata": {},
   "outputs": [
    {
     "data": {
      "text/plain": [
       "<AxesSubplot:xlabel='Rating_sort', ylabel='Cost_for_Two'>"
      ]
     },
     "execution_count": 32,
     "metadata": {},
     "output_type": "execute_result"
    },
    {
     "data": {
      "image/png": "[encoded data removed]",
      "text/plain": [
       "<Figure size 640x480 with 1 Axes>"
      ]
     },
     "metadata": {},
     "output_type": "display_data"
    }
   ],
   "source": [
    "sns.boxplot(x='Rating_sort',y='Cost_for_Two',data=swiggy_df,palette='winter')"
   ]
  },
  {
   "cell_type": "markdown",
   "id": "86f31d8e",
   "metadata": {},
   "source": [
    "Now in above box plot, we plot 0 as below rating and 1 as above raing food category on x axis. And cost of two on y axis, this also shows same thing that mean cost for two persons lies between 200 to 400 irrespective of ratings.\n"
   ]
  }
 ],
 "metadata": {
  "kernelspec": {
   "display_name": "Python 3 (ipykernel)",
   "language": "python",
   "name": "python3"
  },
  "language_info": {
   "codemirror_mode": {
    "name": "ipython",
    "version": 3
   },
   "file_extension": ".py",
   "mimetype": "text/x-python",
   "name": "python",
   "nbconvert_exporter": "python",
   "pygments_lexer": "ipython3",
   "version": "3.9.13"
  }
 },
 "nbformat": 4,
 "nbformat_minor": 5
}
